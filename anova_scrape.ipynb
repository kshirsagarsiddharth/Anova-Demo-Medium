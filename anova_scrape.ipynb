{
 "cells": [
  {
   "cell_type": "code",
   "execution_count": 1,
   "metadata": {},
   "outputs": [],
   "source": [
    "# selenium 4\n",
    "from selenium import webdriver\n",
    "from selenium.webdriver.chrome.service import Service as ChromeService\n",
    "from webdriver_manager.chrome import ChromeDriverManager\n",
    "from selenium.webdriver.common.by import By\n",
    "from selenium.webdriver.support.ui import WebDriverWait\n",
    "from selenium.webdriver.support import expected_conditions as EC\n",
    "from selenium.webdriver.common.action_chains import ActionChains \n",
    "from tqdm.notebook import tqdm \n",
    "import pandas as pd \n",
    "from selenium.webdriver.support.ui import Select \n",
    "from bs4 import BeautifulSoup\n",
    "import time \n",
    "driver = webdriver.Chrome(service=ChromeService(ChromeDriverManager().install()))\n",
    "driver.get('https://www.indianfundbazaar.com/historical-nav/') \n",
    "driver.maximize_window()"
   ]
  },
  {
   "cell_type": "code",
   "execution_count": 2,
   "metadata": {},
   "outputs": [],
   "source": [
    "iframe = driver.find_element(By.XPATH,'//*[@id=\"post-3226\"]/div/div/div/div/div[2]/div/div/div/div/p/iframe')  \n",
    "driver.switch_to.frame(iframe)\n"
   ]
  },
  {
   "cell_type": "code",
   "execution_count": 3,
   "metadata": {},
   "outputs": [],
   "source": [
    "amc = driver.find_element(By.XPATH,'//*[@id=\"frmnav\"]/div[1]/div/select')  \n",
    "select = Select(amc) \n",
    "select.select_by_visible_text('Canara Robeco Mutual Fund')\n"
   ]
  },
  {
   "cell_type": "code",
   "execution_count": 5,
   "metadata": {},
   "outputs": [],
   "source": [
    "category = driver.find_element(By.XPATH,'//*[@id=\"frmnav\"]/div[2]/div/select') \n",
    "cat_select = Select(category) \n",
    "cat_select.select_by_visible_text('Equity')\n"
   ]
  },
  {
   "cell_type": "code",
   "execution_count": 6,
   "metadata": {},
   "outputs": [],
   "source": [
    "scheme_name = driver.find_element(By.XPATH,'//*[@id=\"frmnav\"]/div[3]/div/select') \n",
    "scheme_name_select = Select(scheme_name) \n",
    "scheme_name_select.select_by_visible_text('Canara Robeco Bluechip Equity Fund (G)')\n"
   ]
  },
  {
   "cell_type": "code",
   "execution_count": 7,
   "metadata": {},
   "outputs": [],
   "source": [
    "from_date = driver.find_element(By.XPATH,'//*[@id=\"fromdate\"]') \n",
    "from_date.clear() \n",
    "from_date.send_keys('01-01-2020')"
   ]
  },
  {
   "cell_type": "code",
   "execution_count": 9,
   "metadata": {},
   "outputs": [],
   "source": [
    "get_nav = driver.find_element(By.XPATH,'//*[@id=\"frmnav\"]/div[6]/div/input') \n",
    "get_nav.click()"
   ]
  },
  {
   "cell_type": "code",
   "execution_count": 11,
   "metadata": {},
   "outputs": [
    {
     "data": {
      "text/plain": [
       "<selenium.webdriver.remote.webelement.WebElement (session=\"5d8bfad6a27a0f105d1c4d191216ae7e\", element=\"eb053e4e-d128-47d3-925d-1934504b07be\")>"
      ]
     },
     "execution_count": 11,
     "metadata": {},
     "output_type": "execute_result"
    }
   ],
   "source": [
    "table = driver.find_element(By.XPATH,'/html/body/div[2]/div[1]/div/table') \n",
    "table"
   ]
  },
  {
   "cell_type": "code",
   "execution_count": 18,
   "metadata": {},
   "outputs": [],
   "source": [
    "df = pd.read_html(table.get_attribute('outerHTML'))[0]"
   ]
  },
  {
   "cell_type": "code",
   "execution_count": null,
   "metadata": {},
   "outputs": [],
   "source": [
    "df.to_excel(f'{amc_name}.xlsx')"
   ]
  }
 ],
 "metadata": {
  "kernelspec": {
   "display_name": "Python 3 (ipykernel)",
   "language": "python",
   "name": "python3"
  },
  "language_info": {
   "codemirror_mode": {
    "name": "ipython",
    "version": 3
   },
   "file_extension": ".py",
   "mimetype": "text/x-python",
   "name": "python",
   "nbconvert_exporter": "python",
   "pygments_lexer": "ipython3",
   "version": "3.9.13"
  }
 },
 "nbformat": 4,
 "nbformat_minor": 4
}
